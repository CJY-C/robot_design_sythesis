{
 "cells": [
  {
   "cell_type": "code",
   "execution_count": 2,
   "metadata": {},
   "outputs": [],
   "source": [
    "import pybullet as p\n"
   ]
  },
  {
   "cell_type": "code",
   "execution_count": null,
   "metadata": {},
   "outputs": [],
   "source": [
    "customid = p.loadURDF('./coman.urdf')\n"
   ]
  }
 ],
 "metadata": {
  "kernelspec": {
   "display_name": "RDS",
   "language": "python",
   "name": "python3"
  },
  "language_info": {
   "codemirror_mode": {
    "name": "ipython",
    "version": 3
   },
   "file_extension": ".py",
   "mimetype": "text/x-python",
   "name": "python",
   "nbconvert_exporter": "python",
   "pygments_lexer": "ipython3",
   "version": "3.6.13"
  },
  "orig_nbformat": 4,
  "vscode": {
   "interpreter": {
    "hash": "5b53eb57cc212e31c5fce973a98e3213d8899cfb217e51a16d345f292e6f2aff"
   }
  }
 },
 "nbformat": 4,
 "nbformat_minor": 2
}
