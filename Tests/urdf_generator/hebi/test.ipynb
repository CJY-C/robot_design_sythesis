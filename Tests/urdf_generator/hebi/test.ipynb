{
 "cells": [
  {
   "cell_type": "code",
   "execution_count": 1,
   "metadata": {},
   "outputs": [
    {
     "name": "stderr",
     "output_type": "stream",
     "text": [
      "pybullet build time: May 20 2022 19:43:01\n"
     ]
    }
   ],
   "source": [
    "import pybullet as p"
   ]
  },
  {
   "cell_type": "code",
   "execution_count": 2,
   "metadata": {},
   "outputs": [
    {
     "name": "stdout",
     "output_type": "stream",
     "text": [
      "startThreads creating 1 threads.\n",
      "starting thread 0\n",
      "started thread 0 \n",
      "argc=2\n",
      "argv[0] = --unused\n",
      "argv[1] = --start_demo_name=Physics Server\n",
      "ExampleBrowserThreadFunc started\n",
      "X11 functions dynamically loaded using dlopen/dlsym OK!\n",
      "X11 functions dynamically loaded using dlopen/dlsym OK!\n",
      "Creating context\n",
      "Created GL 3.3 context\n",
      "Direct GLX rendering context obtained\n",
      "Making context current\n",
      "GL_VENDOR=Mesa/X.org\n",
      "GL_RENDERER=llvmpipe (LLVM 15.0.6, 256 bits)\n",
      "GL_VERSION=4.5 (Core Profile) Mesa 22.3.3 - kisak-mesa PPA\n",
      "GL_SHADING_LANGUAGE_VERSION=4.50\n",
      "pthread_getconcurrency()=0\n",
      "Version = 4.5 (Core Profile) Mesa 22.3.3 - kisak-mesa PPA\n",
      "Vendor = Mesa/X.org\n",
      "Renderer = llvmpipe (LLVM 15.0.6, 256 bits)\n",
      "b3Printf: Selected demo: Physics Server\n",
      "startThreads creating 1 threads.\n",
      "starting thread 0\n",
      "started thread 0 \n",
      "MotionThreadFunc thread started\n"
     ]
    },
    {
     "name": "stdout",
     "output_type": "stream",
     "text": [
      "ven = Mesa/X.org\n",
      "ven = Mesa/X.org\n"
     ]
    }
   ],
   "source": [
    "client = p.connect(p.GUI)\n",
    "p.setGravity(0, 0, -10, physicsClientId=client)"
   ]
  },
  {
   "cell_type": "code",
   "execution_count": 3,
   "metadata": {},
   "outputs": [],
   "source": [
    "p_id = p.loadURDF('./test.urdf')"
   ]
  },
  {
   "cell_type": "code",
   "execution_count": 5,
   "metadata": {},
   "outputs": [
    {
     "name": "stdout",
     "output_type": "stream",
     "text": [
      "(0, b'world_joint', 4, -1, -1, 0, 0.0, 0.0, 0.0, -1.0, 0.0, 0.0, b'Arm/J1_base/INPUT_INTERFACE', (0.0, 0.0, 0.0), (0.0, 0.0, 0.0), (0.0, 0.0, 0.0, 1.0), -1)\n",
      "(1, b'Arm/J1_base', 0, 7, 6, 1, 0.1, 0.1, 0.0, -1.0, 7.0, 3.351, b'shoulder_bracket/INPUT_INTERFACE', (0.0, 0.0, 1.0), (0.0142, 0.0031, 0.014499999999999999), (0.0, 0.0, 0.0, 1.0), 0)\n",
      "(2, b'shoulder_bracket/OUTPUT_INTERFACE', 4, -1, -1, 0, 0.0, 0.0, 0.0, -1.0, 0.0, 0.0, b'Arm/J2_shoulder/INPUT_INTERFACE', (0.0, 0.0, 0.0), (0.0, -0.01875, 0.0275), (-0.7071067811865475, 0.0, 0.0, 0.7071067811865476), 1)\n",
      "(3, b'Arm/J2_shoulder', 0, 8, 7, 1, 0.1, 0.1, 0.0, -1.0, 13.0, 1.466, b'shoulder_elbow/INPUT_INTERFACE', (0.0, 0.0, 1.0), (0.0142, 0.0031, 0.014499999999999999), (0.0, 0.0, 0.0, 1.0), 2)\n",
      "(4, b'shoulder_elbow/OUTPUT_JOINT', 4, -1, -1, 0, 0.0, 0.0, 0.0, -1.0, 0.0, 0.0, b'Arm/J3_elbow/INPUT_INTERFACE', (0.0, 0.0, 0.0), (0.1625, -0.02, 0.0), (-0.7071067811865475, 0.0, 0.0, 0.7071067811865476), 3)\n",
      "(5, b'Arm/J3_elbow', 0, 9, 8, 1, 0.1, 0.1, 0.0, -1.0, 7.0, 3.351, b'elbow_wrist/INPUT_INTERFACE', (0.0, 0.0, 1.0), (0.0142, 0.0031, 0.014499999999999999), (0.0, 0.0, 0.0, 1.0), 4)\n",
      "(6, b'elbow_wrist/OUTPUT_JOINT', 4, -1, -1, 0, 0.0, 0.0, 0.0, -1.0, 0.0, 0.0, b'Arm/J4_wrist/INPUT_INTERFACE', (0.0, 0.0, 0.0), (0.1625, 0.0, 0.02), (0.0, 0.0, 0.0, 1.0), 5)\n",
      "(7, b'Arm/J4_wrist', 0, 10, 9, 1, 0.1, 0.1, 0.0, -1.0, 2.5, 9.425, b'end_effector/INPUT_INTERFACE', (0.0, 0.0, 1.0), (0.0142, 0.0031, 0.014499999999999999), (0.0, 0.0, 0.0, 1.0), 6)\n"
     ]
    }
   ],
   "source": [
    "joint_num = p.getNumJoints(p_id, client)\n",
    "\n",
    "joint_info = list()\n",
    "for i in range(joint_num):\n",
    "  joint_info.append(p.getJointInfo(p_id, i, client))\n",
    "\n",
    "for info in joint_info:\n",
    "  print(info)"
   ]
  },
  {
   "cell_type": "code",
   "execution_count": 18,
   "metadata": {},
   "outputs": [
    {
     "name": "stdout",
     "output_type": "stream",
     "text": [
      "(0.65, -0.08850000000000006, -0.036000000000000004)\n",
      "(1.0, 0.0, 0.0, 2.220446049250313e-16)\n",
      "(0.0, 0.0, 0.0)\n",
      "(0.0, 0.0, 0.0, 1.0)\n",
      "(0.6499999761581421, -0.0885000005364418, -0.035999998450279236)\n",
      "(1.0, 0.0, 0.0, 2.220446049250313e-16)\n"
     ]
    }
   ],
   "source": [
    "link_states = p.getLinkState(p_id, 7)\n",
    "\n",
    "for state in link_states:\n",
    "  print(state)"
   ]
  },
  {
   "cell_type": "code",
   "execution_count": 16,
   "metadata": {},
   "outputs": [],
   "source": [
    "p1 = p.addUserDebugPoints(pointPositions=[[ 0.2, 0.2, 0.2 ]], pointColorsRGB=[[0.5, 0, 0]], pointSize=3)"
   ]
  },
  {
   "cell_type": "code",
   "execution_count": 19,
   "metadata": {},
   "outputs": [
    {
     "data": {
      "text/plain": [
       "(0.2516404667255692, 0.7156022765223382, -1.5520429067523462, 0.0)"
      ]
     },
     "execution_count": 19,
     "metadata": {},
     "output_type": "execute_result"
    }
   ],
   "source": [
    "p.calculateInverseKinematics(p_id, 7, [0.2, 0.2, 0.2])"
   ]
  },
  {
   "cell_type": "code",
   "execution_count": 22,
   "metadata": {},
   "outputs": [],
   "source": [
    "p.setJointMotorControl2(p_id, 4, controlMode=p.POSITION_CONTROL, targetPosition=0.2516404667255692)"
   ]
  },
  {
   "cell_type": "code",
   "execution_count": 29,
   "metadata": {},
   "outputs": [],
   "source": [
    "for i in range(100):\n",
    "  p.setJointMotorControl2(p_id, 2, controlMode=p.POSITION_CONTROL, targetPosition=0.7156022765223382)\n",
    "  p.stepSimulation()"
   ]
  },
  {
   "cell_type": "code",
   "execution_count": 30,
   "metadata": {},
   "outputs": [],
   "source": [
    "p.removeUserDebugItem(p1)"
   ]
  },
  {
   "cell_type": "code",
   "execution_count": 31,
   "metadata": {},
   "outputs": [],
   "source": [
    "p.removeBody(p_id)"
   ]
  },
  {
   "cell_type": "code",
   "execution_count": 32,
   "metadata": {},
   "outputs": [
    {
     "name": "stdout",
     "output_type": "stream",
     "text": [
      "numActiveThreads = 0\n",
      "stopping threads\n",
      "destroy semaphore\n",
      "semaphore destroyed\n",
      "Thread with taskId 0 exiting\n",
      "Thread TERMINATED\n",
      "destroy main semaphore\n",
      "main semaphore destroyed\n",
      "finished\n",
      "numActiveThreads = 0\n",
      "btShutDownExampleBrowser stopping threads\n",
      "Thread with taskId 0 exiting\n",
      "Thread TERMINATED\n",
      "destroy semaphore\n",
      "semaphore destroyed\n",
      "destroy main semaphore\n",
      "main semaphore destroyed\n"
     ]
    }
   ],
   "source": [
    "p.disconnect()"
   ]
  },
  {
   "cell_type": "code",
   "execution_count": 34,
   "metadata": {},
   "outputs": [
    {
     "data": {
      "text/plain": [
       "(0, 4)"
      ]
     },
     "execution_count": 34,
     "metadata": {},
     "output_type": "execute_result"
    }
   ],
   "source": [
    "p.JOINT_REVOLUTE, p.JOINT_FIXED"
   ]
  }
 ],
 "metadata": {
  "kernelspec": {
   "display_name": "RDS",
   "language": "python",
   "name": "python3"
  },
  "language_info": {
   "codemirror_mode": {
    "name": "ipython",
    "version": 3
   },
   "file_extension": ".py",
   "mimetype": "text/x-python",
   "name": "python",
   "nbconvert_exporter": "python",
   "pygments_lexer": "ipython3",
   "version": "3.7.15"
  },
  "orig_nbformat": 4,
  "vscode": {
   "interpreter": {
    "hash": "5b53eb57cc212e31c5fce973a98e3213d8899cfb217e51a16d345f292e6f2aff"
   }
  }
 },
 "nbformat": 4,
 "nbformat_minor": 2
}
